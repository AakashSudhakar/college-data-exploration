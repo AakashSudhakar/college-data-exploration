{
 "cells": [
  {
   "cell_type": "code",
   "execution_count": 7,
   "metadata": {},
   "outputs": [],
   "source": [
    "import numpy as np\n",
    "import pandas as pd\n",
    "import matplotlib.pyplot as plt\n",
    "import seaborn as sns"
   ]
  },
  {
   "cell_type": "code",
   "execution_count": 8,
   "metadata": {},
   "outputs": [
    {
     "data": {
      "text/html": [
       "<div>\n",
       "<style scoped>\n",
       "    .dataframe tbody tr th:only-of-type {\n",
       "        vertical-align: middle;\n",
       "    }\n",
       "\n",
       "    .dataframe tbody tr th {\n",
       "        vertical-align: top;\n",
       "    }\n",
       "\n",
       "    .dataframe thead th {\n",
       "        text-align: right;\n",
       "    }\n",
       "</style>\n",
       "<table border=\"1\" class=\"dataframe\">\n",
       "  <thead>\n",
       "    <tr style=\"text-align: right;\">\n",
       "      <th></th>\n",
       "      <th>name</th>\n",
       "      <th>state</th>\n",
       "      <th>location</th>\n",
       "      <th>control</th>\n",
       "      <th>for_profit</th>\n",
       "      <th>religious_affiliation</th>\n",
       "      <th>degree_type</th>\n",
       "      <th>distance</th>\n",
       "      <th>historically_black</th>\n",
       "      <th>enrollment</th>\n",
       "      <th>founded_in</th>\n",
       "      <th>closed_merged_in</th>\n",
       "      <th>accreditation</th>\n",
       "    </tr>\n",
       "  </thead>\n",
       "  <tbody>\n",
       "    <tr>\n",
       "      <th>0</th>\n",
       "      <td>Southern Union State Community College</td>\n",
       "      <td>Alabama</td>\n",
       "      <td>Wadley</td>\n",
       "      <td>Public</td>\n",
       "      <td>0</td>\n",
       "      <td>Non-sectarian</td>\n",
       "      <td>Associates College</td>\n",
       "      <td>NaN</td>\n",
       "      <td>NaN</td>\n",
       "      <td>4,655</td>\n",
       "      <td>1994</td>\n",
       "      <td>NaN</td>\n",
       "      <td>SACS</td>\n",
       "    </tr>\n",
       "    <tr>\n",
       "      <th>1</th>\n",
       "      <td>Northwest–Shoals Community College</td>\n",
       "      <td>Alabama</td>\n",
       "      <td>Muscle Shoals</td>\n",
       "      <td>Public</td>\n",
       "      <td>0</td>\n",
       "      <td>Non-sectarian</td>\n",
       "      <td>Associates College</td>\n",
       "      <td>NaN</td>\n",
       "      <td>NaN</td>\n",
       "      <td>3,512</td>\n",
       "      <td>1993</td>\n",
       "      <td>NaN</td>\n",
       "      <td>SACS</td>\n",
       "    </tr>\n",
       "    <tr>\n",
       "      <th>2</th>\n",
       "      <td>Central Alabama Community College</td>\n",
       "      <td>Alabama</td>\n",
       "      <td>Alexander City</td>\n",
       "      <td>Public</td>\n",
       "      <td>0</td>\n",
       "      <td>Non-sectarian</td>\n",
       "      <td>Associates College</td>\n",
       "      <td>NaN</td>\n",
       "      <td>NaN</td>\n",
       "      <td>1,799</td>\n",
       "      <td>1989</td>\n",
       "      <td>NaN</td>\n",
       "      <td>SACS</td>\n",
       "    </tr>\n",
       "    <tr>\n",
       "      <th>3</th>\n",
       "      <td>Gadsden State Community College[c]</td>\n",
       "      <td>Alabama</td>\n",
       "      <td>Gadsden</td>\n",
       "      <td>Public</td>\n",
       "      <td>0</td>\n",
       "      <td>Secular</td>\n",
       "      <td>Associates College</td>\n",
       "      <td>NaN</td>\n",
       "      <td>NaN</td>\n",
       "      <td>4,599</td>\n",
       "      <td>1985</td>\n",
       "      <td>NaN</td>\n",
       "      <td>SACS</td>\n",
       "    </tr>\n",
       "    <tr>\n",
       "      <th>4</th>\n",
       "      <td>Community College of the Air Force</td>\n",
       "      <td>Alabama</td>\n",
       "      <td>Montgomery</td>\n",
       "      <td>Public</td>\n",
       "      <td>0</td>\n",
       "      <td>Non-sectarian</td>\n",
       "      <td>Associates College</td>\n",
       "      <td>NaN</td>\n",
       "      <td>NaN</td>\n",
       "      <td>NaN</td>\n",
       "      <td>1979</td>\n",
       "      <td>NaN</td>\n",
       "      <td>SACS</td>\n",
       "    </tr>\n",
       "  </tbody>\n",
       "</table>\n",
       "</div>"
      ],
      "text/plain": [
       "                                     name    state        location control  \\\n",
       "0  Southern Union State Community College  Alabama          Wadley  Public   \n",
       "1      Northwest–Shoals Community College  Alabama   Muscle Shoals  Public   \n",
       "2       Central Alabama Community College  Alabama  Alexander City  Public   \n",
       "3      Gadsden State Community College[c]  Alabama         Gadsden  Public   \n",
       "4      Community College of the Air Force  Alabama      Montgomery  Public   \n",
       "\n",
       "  for_profit religious_affiliation         degree_type  distance  \\\n",
       "0          0         Non-sectarian  Associates College       NaN   \n",
       "1          0         Non-sectarian  Associates College       NaN   \n",
       "2          0         Non-sectarian  Associates College       NaN   \n",
       "3          0               Secular  Associates College       NaN   \n",
       "4          0         Non-sectarian  Associates College       NaN   \n",
       "\n",
       "   historically_black enrollment founded_in closed_merged_in accreditation  \n",
       "0                 NaN      4,655       1994              NaN          SACS  \n",
       "1                 NaN      3,512       1993              NaN          SACS  \n",
       "2                 NaN      1,799       1989              NaN          SACS  \n",
       "3                 NaN      4,599       1985              NaN          SACS  \n",
       "4                 NaN        NaN       1979              NaN          SACS  "
      ]
     },
     "execution_count": 8,
     "metadata": {},
     "output_type": "execute_result"
    }
   ],
   "source": [
    "df = pd.read_csv('college-data.csv')\n",
    "df.head()"
   ]
  },
  {
   "cell_type": "code",
   "execution_count": 9,
   "metadata": {},
   "outputs": [
    {
     "data": {
      "text/plain": [
       "(2998, 13)"
      ]
     },
     "execution_count": 9,
     "metadata": {},
     "output_type": "execute_result"
    }
   ],
   "source": [
    "df.shape"
   ]
  },
  {
   "cell_type": "code",
   "execution_count": 16,
   "metadata": {},
   "outputs": [
    {
     "data": {
      "image/png": "[encoded data removed]",
      "text/plain": [
       "<Figure size 432x288 with 1 Axes>"
      ]
     },
     "metadata": {},
     "output_type": "display_data"
    }
   ],
   "source": [
    "# Bar chart of colleges founded by year\n",
    "df['founded_in'].value_counts().plot(kind='line');\n",
    "plt.xlabel(\"Year\")\n",
    "plt.ylabel(\"New Colleges\")\n",
    "plt.title(\"New Colleges by Year\");"
   ]
  },
  {
   "cell_type": "code",
   "execution_count": null,
   "metadata": {},
   "outputs": [],
   "source": []
  }
 ],
 "metadata": {
  "kernelspec": {
   "display_name": "Python 3",
   "language": "python",
   "name": "python3"
  },
  "language_info": {
   "codemirror_mode": {
    "name": "ipython",
    "version": 3
   },
   "file_extension": ".py",
   "mimetype": "text/x-python",
   "name": "python",
   "nbconvert_exporter": "python",
   "pygments_lexer": "ipython3",
   "version": "3.7.3"
  }
 },
 "nbformat": 4,
 "nbformat_minor": 4
}
